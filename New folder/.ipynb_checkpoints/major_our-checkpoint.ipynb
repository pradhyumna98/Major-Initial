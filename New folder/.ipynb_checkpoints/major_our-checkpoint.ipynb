{
 "cells": [
  {
   "cell_type": "code",
   "execution_count": 2,
   "metadata": {},
   "outputs": [
    {
     "data": {
      "text/html": [
       "        <script type=\"text/javascript\">\n",
       "        window.PlotlyConfig = {MathJaxConfig: 'local'};\n",
       "        if (window.MathJax) {MathJax.Hub.Config({SVG: {font: \"STIX-Web\"}});}\n",
       "        if (typeof require !== 'undefined') {\n",
       "        require.undef(\"plotly\");\n",
       "        requirejs.config({\n",
       "            paths: {\n",
       "                'plotly': ['https://cdn.plot.ly/plotly-latest.min']\n",
       "            }\n",
       "        });\n",
       "        require(['plotly'], function(Plotly) {\n",
       "            window._Plotly = Plotly;\n",
       "        });\n",
       "        }\n",
       "        </script>\n",
       "        "
      ]
     },
     "metadata": {},
     "output_type": "display_data"
    }
   ],
   "source": [
    "import pandas as pd\n",
    "from scipy.io import arff\n",
    "import seaborn as sns\n",
    "import matplotlib\n",
    "import matplotlib.pyplot as plt\n",
    "from sklearn import preprocessing\n",
    "import numpy as np\n",
    "\n",
    "from sklearn.metrics import confusion_matrix, accuracy_score, recall_score, roc_curve, auc\n",
    "from sklearn.model_selection import train_test_split\n",
    "from sklearn.ensemble import (RandomForestClassifier, AdaBoostClassifier, \n",
    "                              GradientBoostingClassifier, ExtraTreesClassifier)\n",
    "from sklearn.model_selection import RandomizedSearchCV\n",
    "from sklearn.svm import SVC\n",
    "from sklearn.neighbors import KNeighborsClassifier\n",
    "from sklearn.model_selection import cross_val_score\n",
    "from sklearn.model_selection import KFold\n",
    "#import xgboost as xgb\n",
    "from sklearn import metrics\n",
    "from sklearn.metrics import mean_squared_error\n",
    "\n",
    "import plotly.offline as py\n",
    "py.init_notebook_mode(connected=True)\n",
    "import plotly.graph_objs as go\n",
    "import plotly.tools as tls\n",
    "\n",
    "\n",
    "FOLDS =10\n",
    "%matplotlib inline"
   ]
  },
  {
   "cell_type": "code",
   "execution_count": 3,
   "metadata": {},
   "outputs": [
    {
     "data": {
      "text/html": [
       "<div>\n",
       "<style scoped>\n",
       "    .dataframe tbody tr th:only-of-type {\n",
       "        vertical-align: middle;\n",
       "    }\n",
       "\n",
       "    .dataframe tbody tr th {\n",
       "        vertical-align: top;\n",
       "    }\n",
       "\n",
       "    .dataframe thead th {\n",
       "        text-align: right;\n",
       "    }\n",
       "</style>\n",
       "<table border=\"1\" class=\"dataframe\">\n",
       "  <thead>\n",
       "    <tr style=\"text-align: right;\">\n",
       "      <th></th>\n",
       "      <th>Subject ID</th>\n",
       "      <th>MRI ID</th>\n",
       "      <th>Group</th>\n",
       "      <th>Visit</th>\n",
       "      <th>MR Delay</th>\n",
       "      <th>M/F</th>\n",
       "      <th>Hand</th>\n",
       "      <th>Age</th>\n",
       "      <th>EDUC</th>\n",
       "      <th>SES</th>\n",
       "      <th>MMSE</th>\n",
       "      <th>CDR</th>\n",
       "      <th>eTIV</th>\n",
       "      <th>nWBV</th>\n",
       "      <th>ASF</th>\n",
       "    </tr>\n",
       "  </thead>\n",
       "  <tbody>\n",
       "    <tr>\n",
       "      <th>0</th>\n",
       "      <td>OAS2_0001</td>\n",
       "      <td>OAS2_0001_MR1</td>\n",
       "      <td>Nondemented</td>\n",
       "      <td>1</td>\n",
       "      <td>0</td>\n",
       "      <td>M</td>\n",
       "      <td>R</td>\n",
       "      <td>87</td>\n",
       "      <td>14</td>\n",
       "      <td>2.0</td>\n",
       "      <td>27.0</td>\n",
       "      <td>0.0</td>\n",
       "      <td>1987</td>\n",
       "      <td>0.696</td>\n",
       "      <td>0.883</td>\n",
       "    </tr>\n",
       "    <tr>\n",
       "      <th>1</th>\n",
       "      <td>OAS2_0001</td>\n",
       "      <td>OAS2_0001_MR2</td>\n",
       "      <td>Nondemented</td>\n",
       "      <td>2</td>\n",
       "      <td>457</td>\n",
       "      <td>M</td>\n",
       "      <td>R</td>\n",
       "      <td>88</td>\n",
       "      <td>14</td>\n",
       "      <td>2.0</td>\n",
       "      <td>30.0</td>\n",
       "      <td>0.0</td>\n",
       "      <td>2004</td>\n",
       "      <td>0.681</td>\n",
       "      <td>0.876</td>\n",
       "    </tr>\n",
       "    <tr>\n",
       "      <th>2</th>\n",
       "      <td>OAS2_0002</td>\n",
       "      <td>OAS2_0002_MR1</td>\n",
       "      <td>Demented</td>\n",
       "      <td>1</td>\n",
       "      <td>0</td>\n",
       "      <td>M</td>\n",
       "      <td>R</td>\n",
       "      <td>75</td>\n",
       "      <td>12</td>\n",
       "      <td>NaN</td>\n",
       "      <td>23.0</td>\n",
       "      <td>0.5</td>\n",
       "      <td>1678</td>\n",
       "      <td>0.736</td>\n",
       "      <td>1.046</td>\n",
       "    </tr>\n",
       "    <tr>\n",
       "      <th>3</th>\n",
       "      <td>OAS2_0002</td>\n",
       "      <td>OAS2_0002_MR2</td>\n",
       "      <td>Demented</td>\n",
       "      <td>2</td>\n",
       "      <td>560</td>\n",
       "      <td>M</td>\n",
       "      <td>R</td>\n",
       "      <td>76</td>\n",
       "      <td>12</td>\n",
       "      <td>NaN</td>\n",
       "      <td>28.0</td>\n",
       "      <td>0.5</td>\n",
       "      <td>1738</td>\n",
       "      <td>0.713</td>\n",
       "      <td>1.010</td>\n",
       "    </tr>\n",
       "    <tr>\n",
       "      <th>4</th>\n",
       "      <td>OAS2_0002</td>\n",
       "      <td>OAS2_0002_MR3</td>\n",
       "      <td>Demented</td>\n",
       "      <td>3</td>\n",
       "      <td>1895</td>\n",
       "      <td>M</td>\n",
       "      <td>R</td>\n",
       "      <td>80</td>\n",
       "      <td>12</td>\n",
       "      <td>NaN</td>\n",
       "      <td>22.0</td>\n",
       "      <td>0.5</td>\n",
       "      <td>1698</td>\n",
       "      <td>0.701</td>\n",
       "      <td>1.034</td>\n",
       "    </tr>\n",
       "  </tbody>\n",
       "</table>\n",
       "</div>"
      ],
      "text/plain": [
       "  Subject ID         MRI ID        Group  Visit  MR Delay M/F Hand  Age  EDUC  \\\n",
       "0  OAS2_0001  OAS2_0001_MR1  Nondemented      1         0   M    R   87    14   \n",
       "1  OAS2_0001  OAS2_0001_MR2  Nondemented      2       457   M    R   88    14   \n",
       "2  OAS2_0002  OAS2_0002_MR1     Demented      1         0   M    R   75    12   \n",
       "3  OAS2_0002  OAS2_0002_MR2     Demented      2       560   M    R   76    12   \n",
       "4  OAS2_0002  OAS2_0002_MR3     Demented      3      1895   M    R   80    12   \n",
       "\n",
       "   SES  MMSE  CDR  eTIV   nWBV    ASF  \n",
       "0  2.0  27.0  0.0  1987  0.696  0.883  \n",
       "1  2.0  30.0  0.0  2004  0.681  0.876  \n",
       "2  NaN  23.0  0.5  1678  0.736  1.046  \n",
       "3  NaN  28.0  0.5  1738  0.713  1.010  \n",
       "4  NaN  22.0  0.5  1698  0.701  1.034  "
      ]
     },
     "execution_count": 3,
     "metadata": {},
     "output_type": "execute_result"
    }
   ],
   "source": [
    "data = 'oasis_longitudinal.csv'\n",
    "df = pd.read_csv (data)\n",
    "df.head()"
   ]
  },
  {
   "cell_type": "code",
   "execution_count": 4,
   "metadata": {},
   "outputs": [
    {
     "data": {
      "text/html": [
       "<div>\n",
       "<style scoped>\n",
       "    .dataframe tbody tr th:only-of-type {\n",
       "        vertical-align: middle;\n",
       "    }\n",
       "\n",
       "    .dataframe tbody tr th {\n",
       "        vertical-align: top;\n",
       "    }\n",
       "\n",
       "    .dataframe thead th {\n",
       "        text-align: right;\n",
       "    }\n",
       "</style>\n",
       "<table border=\"1\" class=\"dataframe\">\n",
       "  <thead>\n",
       "    <tr style=\"text-align: right;\">\n",
       "      <th></th>\n",
       "      <th>Visit</th>\n",
       "      <th>MR Delay</th>\n",
       "      <th>Age</th>\n",
       "      <th>EDUC</th>\n",
       "      <th>SES</th>\n",
       "      <th>MMSE</th>\n",
       "      <th>CDR</th>\n",
       "      <th>eTIV</th>\n",
       "      <th>nWBV</th>\n",
       "      <th>ASF</th>\n",
       "    </tr>\n",
       "  </thead>\n",
       "  <tbody>\n",
       "    <tr>\n",
       "      <th>count</th>\n",
       "      <td>373.000000</td>\n",
       "      <td>373.000000</td>\n",
       "      <td>373.000000</td>\n",
       "      <td>373.000000</td>\n",
       "      <td>354.000000</td>\n",
       "      <td>371.000000</td>\n",
       "      <td>373.000000</td>\n",
       "      <td>373.000000</td>\n",
       "      <td>373.000000</td>\n",
       "      <td>373.000000</td>\n",
       "    </tr>\n",
       "    <tr>\n",
       "      <th>mean</th>\n",
       "      <td>1.882038</td>\n",
       "      <td>595.104558</td>\n",
       "      <td>77.013405</td>\n",
       "      <td>14.597855</td>\n",
       "      <td>2.460452</td>\n",
       "      <td>27.342318</td>\n",
       "      <td>0.290885</td>\n",
       "      <td>1488.128686</td>\n",
       "      <td>0.729568</td>\n",
       "      <td>1.195461</td>\n",
       "    </tr>\n",
       "    <tr>\n",
       "      <th>std</th>\n",
       "      <td>0.922843</td>\n",
       "      <td>635.485118</td>\n",
       "      <td>7.640957</td>\n",
       "      <td>2.876339</td>\n",
       "      <td>1.134005</td>\n",
       "      <td>3.683244</td>\n",
       "      <td>0.374557</td>\n",
       "      <td>176.139286</td>\n",
       "      <td>0.037135</td>\n",
       "      <td>0.138092</td>\n",
       "    </tr>\n",
       "    <tr>\n",
       "      <th>min</th>\n",
       "      <td>1.000000</td>\n",
       "      <td>0.000000</td>\n",
       "      <td>60.000000</td>\n",
       "      <td>6.000000</td>\n",
       "      <td>1.000000</td>\n",
       "      <td>4.000000</td>\n",
       "      <td>0.000000</td>\n",
       "      <td>1106.000000</td>\n",
       "      <td>0.644000</td>\n",
       "      <td>0.876000</td>\n",
       "    </tr>\n",
       "    <tr>\n",
       "      <th>25%</th>\n",
       "      <td>1.000000</td>\n",
       "      <td>0.000000</td>\n",
       "      <td>71.000000</td>\n",
       "      <td>12.000000</td>\n",
       "      <td>2.000000</td>\n",
       "      <td>27.000000</td>\n",
       "      <td>0.000000</td>\n",
       "      <td>1357.000000</td>\n",
       "      <td>0.700000</td>\n",
       "      <td>1.099000</td>\n",
       "    </tr>\n",
       "    <tr>\n",
       "      <th>50%</th>\n",
       "      <td>2.000000</td>\n",
       "      <td>552.000000</td>\n",
       "      <td>77.000000</td>\n",
       "      <td>15.000000</td>\n",
       "      <td>2.000000</td>\n",
       "      <td>29.000000</td>\n",
       "      <td>0.000000</td>\n",
       "      <td>1470.000000</td>\n",
       "      <td>0.729000</td>\n",
       "      <td>1.194000</td>\n",
       "    </tr>\n",
       "    <tr>\n",
       "      <th>75%</th>\n",
       "      <td>2.000000</td>\n",
       "      <td>873.000000</td>\n",
       "      <td>82.000000</td>\n",
       "      <td>16.000000</td>\n",
       "      <td>3.000000</td>\n",
       "      <td>30.000000</td>\n",
       "      <td>0.500000</td>\n",
       "      <td>1597.000000</td>\n",
       "      <td>0.756000</td>\n",
       "      <td>1.293000</td>\n",
       "    </tr>\n",
       "    <tr>\n",
       "      <th>max</th>\n",
       "      <td>5.000000</td>\n",
       "      <td>2639.000000</td>\n",
       "      <td>98.000000</td>\n",
       "      <td>23.000000</td>\n",
       "      <td>5.000000</td>\n",
       "      <td>30.000000</td>\n",
       "      <td>2.000000</td>\n",
       "      <td>2004.000000</td>\n",
       "      <td>0.837000</td>\n",
       "      <td>1.587000</td>\n",
       "    </tr>\n",
       "  </tbody>\n",
       "</table>\n",
       "</div>"
      ],
      "text/plain": [
       "            Visit     MR Delay         Age        EDUC         SES  \\\n",
       "count  373.000000   373.000000  373.000000  373.000000  354.000000   \n",
       "mean     1.882038   595.104558   77.013405   14.597855    2.460452   \n",
       "std      0.922843   635.485118    7.640957    2.876339    1.134005   \n",
       "min      1.000000     0.000000   60.000000    6.000000    1.000000   \n",
       "25%      1.000000     0.000000   71.000000   12.000000    2.000000   \n",
       "50%      2.000000   552.000000   77.000000   15.000000    2.000000   \n",
       "75%      2.000000   873.000000   82.000000   16.000000    3.000000   \n",
       "max      5.000000  2639.000000   98.000000   23.000000    5.000000   \n",
       "\n",
       "             MMSE         CDR         eTIV        nWBV         ASF  \n",
       "count  371.000000  373.000000   373.000000  373.000000  373.000000  \n",
       "mean    27.342318    0.290885  1488.128686    0.729568    1.195461  \n",
       "std      3.683244    0.374557   176.139286    0.037135    0.138092  \n",
       "min      4.000000    0.000000  1106.000000    0.644000    0.876000  \n",
       "25%     27.000000    0.000000  1357.000000    0.700000    1.099000  \n",
       "50%     29.000000    0.000000  1470.000000    0.729000    1.194000  \n",
       "75%     30.000000    0.500000  1597.000000    0.756000    1.293000  \n",
       "max     30.000000    2.000000  2004.000000    0.837000    1.587000  "
      ]
     },
     "execution_count": 4,
     "metadata": {},
     "output_type": "execute_result"
    }
   ],
   "source": [
    "df.describe()"
   ]
  },
  {
   "cell_type": "code",
   "execution_count": 5,
   "metadata": {},
   "outputs": [
    {
     "data": {
      "text/plain": [
       "True     190\n",
       "False    183\n",
       "Name: Group, dtype: int64"
      ]
     },
     "execution_count": 5,
     "metadata": {},
     "output_type": "execute_result"
    }
   ],
   "source": [
    "nu = pd.DataFrame(df['Group']=='Nondemented')\n",
    "nu[\"Group\"].value_counts() "
   ]
  },
  {
   "cell_type": "code",
   "execution_count": 6,
   "metadata": {},
   "outputs": [
    {
     "data": {
      "text/html": [
       "<div>\n",
       "<style scoped>\n",
       "    .dataframe tbody tr th:only-of-type {\n",
       "        vertical-align: middle;\n",
       "    }\n",
       "\n",
       "    .dataframe tbody tr th {\n",
       "        vertical-align: top;\n",
       "    }\n",
       "\n",
       "    .dataframe thead th {\n",
       "        text-align: right;\n",
       "    }\n",
       "</style>\n",
       "<table border=\"1\" class=\"dataframe\">\n",
       "  <thead>\n",
       "    <tr style=\"text-align: right;\">\n",
       "      <th></th>\n",
       "      <th>Subject ID</th>\n",
       "      <th>MRI ID</th>\n",
       "      <th>Group</th>\n",
       "      <th>Visit</th>\n",
       "      <th>MR Delay</th>\n",
       "      <th>M/F</th>\n",
       "      <th>Hand</th>\n",
       "      <th>Age</th>\n",
       "      <th>EDUC</th>\n",
       "      <th>SES</th>\n",
       "      <th>MMSE</th>\n",
       "      <th>CDR</th>\n",
       "      <th>eTIV</th>\n",
       "      <th>nWBV</th>\n",
       "      <th>ASF</th>\n",
       "    </tr>\n",
       "  </thead>\n",
       "  <tbody>\n",
       "    <tr>\n",
       "      <th>0</th>\n",
       "      <td>OAS2_0001</td>\n",
       "      <td>OAS2_0001_MR1</td>\n",
       "      <td>Nondemented</td>\n",
       "      <td>1</td>\n",
       "      <td>0</td>\n",
       "      <td>M</td>\n",
       "      <td>R</td>\n",
       "      <td>87</td>\n",
       "      <td>14</td>\n",
       "      <td>2.0</td>\n",
       "      <td>27.0</td>\n",
       "      <td>0.0</td>\n",
       "      <td>1987</td>\n",
       "      <td>0.696</td>\n",
       "      <td>0.883</td>\n",
       "    </tr>\n",
       "    <tr>\n",
       "      <th>1</th>\n",
       "      <td>OAS2_0001</td>\n",
       "      <td>OAS2_0001_MR2</td>\n",
       "      <td>Nondemented</td>\n",
       "      <td>2</td>\n",
       "      <td>457</td>\n",
       "      <td>M</td>\n",
       "      <td>R</td>\n",
       "      <td>88</td>\n",
       "      <td>14</td>\n",
       "      <td>2.0</td>\n",
       "      <td>30.0</td>\n",
       "      <td>0.0</td>\n",
       "      <td>2004</td>\n",
       "      <td>0.681</td>\n",
       "      <td>0.876</td>\n",
       "    </tr>\n",
       "    <tr>\n",
       "      <th>2</th>\n",
       "      <td>OAS2_0002</td>\n",
       "      <td>OAS2_0002_MR1</td>\n",
       "      <td>Demented</td>\n",
       "      <td>1</td>\n",
       "      <td>0</td>\n",
       "      <td>M</td>\n",
       "      <td>R</td>\n",
       "      <td>75</td>\n",
       "      <td>12</td>\n",
       "      <td>NaN</td>\n",
       "      <td>23.0</td>\n",
       "      <td>0.5</td>\n",
       "      <td>1678</td>\n",
       "      <td>0.736</td>\n",
       "      <td>1.046</td>\n",
       "    </tr>\n",
       "  </tbody>\n",
       "</table>\n",
       "</div>"
      ],
      "text/plain": [
       "  Subject ID         MRI ID        Group  Visit  MR Delay M/F Hand  Age  EDUC  \\\n",
       "0  OAS2_0001  OAS2_0001_MR1  Nondemented      1         0   M    R   87    14   \n",
       "1  OAS2_0001  OAS2_0001_MR2  Nondemented      2       457   M    R   88    14   \n",
       "2  OAS2_0002  OAS2_0002_MR1     Demented      1         0   M    R   75    12   \n",
       "\n",
       "   SES  MMSE  CDR  eTIV   nWBV    ASF  \n",
       "0  2.0  27.0  0.0  1987  0.696  0.883  \n",
       "1  2.0  30.0  0.0  2004  0.681  0.876  \n",
       "2  NaN  23.0  0.5  1678  0.736  1.046  "
      ]
     },
     "execution_count": 6,
     "metadata": {},
     "output_type": "execute_result"
    }
   ],
   "source": [
    "df['Group'] = df['Group'].replace(['Converted'], ['Demented'])\n",
    "df.head(3)"
   ]
  },
  {
   "cell_type": "code",
   "execution_count": 7,
   "metadata": {},
   "outputs": [
    {
     "data": {
      "text/html": [
       "<div>\n",
       "<style scoped>\n",
       "    .dataframe tbody tr th:only-of-type {\n",
       "        vertical-align: middle;\n",
       "    }\n",
       "\n",
       "    .dataframe tbody tr th {\n",
       "        vertical-align: top;\n",
       "    }\n",
       "\n",
       "    .dataframe thead th {\n",
       "        text-align: right;\n",
       "    }\n",
       "</style>\n",
       "<table border=\"1\" class=\"dataframe\">\n",
       "  <thead>\n",
       "    <tr style=\"text-align: right;\">\n",
       "      <th></th>\n",
       "      <th>Group</th>\n",
       "      <th>MR Delay</th>\n",
       "      <th>M/F</th>\n",
       "      <th>Hand</th>\n",
       "      <th>Age</th>\n",
       "      <th>EDUC</th>\n",
       "      <th>SES</th>\n",
       "      <th>MMSE</th>\n",
       "      <th>eTIV</th>\n",
       "      <th>nWBV</th>\n",
       "      <th>ASF</th>\n",
       "    </tr>\n",
       "  </thead>\n",
       "  <tbody>\n",
       "    <tr>\n",
       "      <th>0</th>\n",
       "      <td>Nondemented</td>\n",
       "      <td>0</td>\n",
       "      <td>M</td>\n",
       "      <td>R</td>\n",
       "      <td>87</td>\n",
       "      <td>14</td>\n",
       "      <td>2.0</td>\n",
       "      <td>27.0</td>\n",
       "      <td>1987</td>\n",
       "      <td>0.696</td>\n",
       "      <td>0.883</td>\n",
       "    </tr>\n",
       "    <tr>\n",
       "      <th>1</th>\n",
       "      <td>Nondemented</td>\n",
       "      <td>457</td>\n",
       "      <td>M</td>\n",
       "      <td>R</td>\n",
       "      <td>88</td>\n",
       "      <td>14</td>\n",
       "      <td>2.0</td>\n",
       "      <td>30.0</td>\n",
       "      <td>2004</td>\n",
       "      <td>0.681</td>\n",
       "      <td>0.876</td>\n",
       "    </tr>\n",
       "    <tr>\n",
       "      <th>2</th>\n",
       "      <td>Demented</td>\n",
       "      <td>0</td>\n",
       "      <td>M</td>\n",
       "      <td>R</td>\n",
       "      <td>75</td>\n",
       "      <td>12</td>\n",
       "      <td>NaN</td>\n",
       "      <td>23.0</td>\n",
       "      <td>1678</td>\n",
       "      <td>0.736</td>\n",
       "      <td>1.046</td>\n",
       "    </tr>\n",
       "  </tbody>\n",
       "</table>\n",
       "</div>"
      ],
      "text/plain": [
       "         Group  MR Delay M/F Hand  Age  EDUC  SES  MMSE  eTIV   nWBV    ASF\n",
       "0  Nondemented         0   M    R   87    14  2.0  27.0  1987  0.696  0.883\n",
       "1  Nondemented       457   M    R   88    14  2.0  30.0  2004  0.681  0.876\n",
       "2     Demented         0   M    R   75    12  NaN  23.0  1678  0.736  1.046"
      ]
     },
     "execution_count": 7,
     "metadata": {},
     "output_type": "execute_result"
    }
   ],
   "source": [
    "df.drop(['Subject ID'], axis = 1, inplace = True, errors = 'ignore')\n",
    "df.drop(['MRI ID'], axis = 1, inplace = True, errors = 'ignore')\n",
    "df.drop(['Visit'], axis = 1, inplace = True, errors = 'ignore')\n",
    "#for this study the CDR we eliminated it\n",
    "df.drop(['CDR'], axis = 1, inplace = True, errors = 'ignore')\n",
    "df.head(3)"
   ]
  },
  {
   "cell_type": "code",
   "execution_count": 8,
   "metadata": {},
   "outputs": [
    {
     "data": {
      "text/html": [
       "<div>\n",
       "<style scoped>\n",
       "    .dataframe tbody tr th:only-of-type {\n",
       "        vertical-align: middle;\n",
       "    }\n",
       "\n",
       "    .dataframe tbody tr th {\n",
       "        vertical-align: top;\n",
       "    }\n",
       "\n",
       "    .dataframe thead th {\n",
       "        text-align: right;\n",
       "    }\n",
       "</style>\n",
       "<table border=\"1\" class=\"dataframe\">\n",
       "  <thead>\n",
       "    <tr style=\"text-align: right;\">\n",
       "      <th></th>\n",
       "      <th>Group</th>\n",
       "      <th>MR Delay</th>\n",
       "      <th>M/F</th>\n",
       "      <th>Hand</th>\n",
       "      <th>Age</th>\n",
       "      <th>EDUC</th>\n",
       "      <th>SES</th>\n",
       "      <th>MMSE</th>\n",
       "      <th>eTIV</th>\n",
       "      <th>nWBV</th>\n",
       "      <th>ASF</th>\n",
       "    </tr>\n",
       "  </thead>\n",
       "  <tbody>\n",
       "    <tr>\n",
       "      <th>0</th>\n",
       "      <td>0</td>\n",
       "      <td>0</td>\n",
       "      <td>M</td>\n",
       "      <td>R</td>\n",
       "      <td>87</td>\n",
       "      <td>14</td>\n",
       "      <td>2.0</td>\n",
       "      <td>27.0</td>\n",
       "      <td>1987</td>\n",
       "      <td>0.696</td>\n",
       "      <td>0.883</td>\n",
       "    </tr>\n",
       "    <tr>\n",
       "      <th>1</th>\n",
       "      <td>0</td>\n",
       "      <td>457</td>\n",
       "      <td>M</td>\n",
       "      <td>R</td>\n",
       "      <td>88</td>\n",
       "      <td>14</td>\n",
       "      <td>2.0</td>\n",
       "      <td>30.0</td>\n",
       "      <td>2004</td>\n",
       "      <td>0.681</td>\n",
       "      <td>0.876</td>\n",
       "    </tr>\n",
       "    <tr>\n",
       "      <th>2</th>\n",
       "      <td>1</td>\n",
       "      <td>0</td>\n",
       "      <td>M</td>\n",
       "      <td>R</td>\n",
       "      <td>75</td>\n",
       "      <td>12</td>\n",
       "      <td>NaN</td>\n",
       "      <td>23.0</td>\n",
       "      <td>1678</td>\n",
       "      <td>0.736</td>\n",
       "      <td>1.046</td>\n",
       "    </tr>\n",
       "  </tbody>\n",
       "</table>\n",
       "</div>"
      ],
      "text/plain": [
       "   Group  MR Delay M/F Hand  Age  EDUC  SES  MMSE  eTIV   nWBV    ASF\n",
       "0      0         0   M    R   87    14  2.0  27.0  1987  0.696  0.883\n",
       "1      0       457   M    R   88    14  2.0  30.0  2004  0.681  0.876\n",
       "2      1         0   M    R   75    12  NaN  23.0  1678  0.736  1.046"
      ]
     },
     "execution_count": 8,
     "metadata": {},
     "output_type": "execute_result"
    }
   ],
   "source": [
    "# 1 = Demented, 0 = Nondemented\n",
    "df['Group'] = df['Group'].replace(['Converted'], ['Demented'])\n",
    "\n",
    "df['Group'] = df['Group'].replace(['Demented', 'Nondemented'], [1,0])    \n",
    "df.head(3)"
   ]
  },
  {
   "cell_type": "code",
   "execution_count": 9,
   "metadata": {},
   "outputs": [
    {
     "data": {
      "text/html": [
       "<div>\n",
       "<style scoped>\n",
       "    .dataframe tbody tr th:only-of-type {\n",
       "        vertical-align: middle;\n",
       "    }\n",
       "\n",
       "    .dataframe tbody tr th {\n",
       "        vertical-align: top;\n",
       "    }\n",
       "\n",
       "    .dataframe thead th {\n",
       "        text-align: right;\n",
       "    }\n",
       "</style>\n",
       "<table border=\"1\" class=\"dataframe\">\n",
       "  <thead>\n",
       "    <tr style=\"text-align: right;\">\n",
       "      <th></th>\n",
       "      <th>Group</th>\n",
       "      <th>MR Delay</th>\n",
       "      <th>M/F</th>\n",
       "      <th>Hand</th>\n",
       "      <th>Age</th>\n",
       "      <th>EDUC</th>\n",
       "      <th>SES</th>\n",
       "      <th>MMSE</th>\n",
       "      <th>eTIV</th>\n",
       "      <th>nWBV</th>\n",
       "      <th>ASF</th>\n",
       "    </tr>\n",
       "  </thead>\n",
       "  <tbody>\n",
       "    <tr>\n",
       "      <th>0</th>\n",
       "      <td>0</td>\n",
       "      <td>0</td>\n",
       "      <td>1</td>\n",
       "      <td>R</td>\n",
       "      <td>87</td>\n",
       "      <td>14</td>\n",
       "      <td>2.0</td>\n",
       "      <td>27.0</td>\n",
       "      <td>1987</td>\n",
       "      <td>0.696</td>\n",
       "      <td>0.883</td>\n",
       "    </tr>\n",
       "    <tr>\n",
       "      <th>1</th>\n",
       "      <td>0</td>\n",
       "      <td>457</td>\n",
       "      <td>1</td>\n",
       "      <td>R</td>\n",
       "      <td>88</td>\n",
       "      <td>14</td>\n",
       "      <td>2.0</td>\n",
       "      <td>30.0</td>\n",
       "      <td>2004</td>\n",
       "      <td>0.681</td>\n",
       "      <td>0.876</td>\n",
       "    </tr>\n",
       "    <tr>\n",
       "      <th>2</th>\n",
       "      <td>1</td>\n",
       "      <td>0</td>\n",
       "      <td>1</td>\n",
       "      <td>R</td>\n",
       "      <td>75</td>\n",
       "      <td>12</td>\n",
       "      <td>NaN</td>\n",
       "      <td>23.0</td>\n",
       "      <td>1678</td>\n",
       "      <td>0.736</td>\n",
       "      <td>1.046</td>\n",
       "    </tr>\n",
       "  </tbody>\n",
       "</table>\n",
       "</div>"
      ],
      "text/plain": [
       "   Group  MR Delay  M/F Hand  Age  EDUC  SES  MMSE  eTIV   nWBV    ASF\n",
       "0      0         0    1    R   87    14  2.0  27.0  1987  0.696  0.883\n",
       "1      0       457    1    R   88    14  2.0  30.0  2004  0.681  0.876\n",
       "2      1         0    1    R   75    12  NaN  23.0  1678  0.736  1.046"
      ]
     },
     "execution_count": 9,
     "metadata": {},
     "output_type": "execute_result"
    }
   ],
   "source": [
    "df['M/F'] = df['M/F'].replace(['M', 'F'], [1,0])  \n",
    "df.head(3)"
   ]
  },
  {
   "cell_type": "code",
   "execution_count": 10,
   "metadata": {},
   "outputs": [
    {
     "data": {
      "text/plain": [
       "[0]"
      ]
     },
     "execution_count": 10,
     "metadata": {},
     "output_type": "execute_result"
    }
   ],
   "source": [
    "from sklearn.preprocessing import LabelEncoder\n",
    "encoder=LabelEncoder()\n",
    "encoder.fit(df.Hand.values)\n",
    "list(encoder.classes_)\n",
    "#Transoformamos\n",
    "encoder.transform(df.Hand.values)\n",
    "df[['Hand']]=encoder.transform(df.Hand.values)\n",
    "encoder2=LabelEncoder()\n",
    "encoder2.fit(df.Hand.values)\n",
    "list(encoder2.classes_)"
   ]
  },
  {
   "cell_type": "code",
   "execution_count": 11,
   "metadata": {},
   "outputs": [
    {
     "data": {
      "text/html": [
       "<div>\n",
       "<style scoped>\n",
       "    .dataframe tbody tr th:only-of-type {\n",
       "        vertical-align: middle;\n",
       "    }\n",
       "\n",
       "    .dataframe tbody tr th {\n",
       "        vertical-align: top;\n",
       "    }\n",
       "\n",
       "    .dataframe thead th {\n",
       "        text-align: right;\n",
       "    }\n",
       "</style>\n",
       "<table border=\"1\" class=\"dataframe\">\n",
       "  <thead>\n",
       "    <tr style=\"text-align: right;\">\n",
       "      <th></th>\n",
       "      <th>Lost proportion (%)</th>\n",
       "    </tr>\n",
       "  </thead>\n",
       "  <tbody>\n",
       "    <tr>\n",
       "      <th>SES</th>\n",
       "      <td>5.09</td>\n",
       "    </tr>\n",
       "    <tr>\n",
       "      <th>MMSE</th>\n",
       "      <td>0.54</td>\n",
       "    </tr>\n",
       "  </tbody>\n",
       "</table>\n",
       "</div>"
      ],
      "text/plain": [
       "      Lost proportion (%)\n",
       "SES                  5.09\n",
       "MMSE                 0.54"
      ]
     },
     "execution_count": 11,
     "metadata": {},
     "output_type": "execute_result"
    }
   ],
   "source": [
    "data_na = (df.isnull().sum() / len(df)) * 100\n",
    "data_na = data_na.drop(data_na[data_na == 0].index).sort_values(ascending=False)[:30]\n",
    "missing_data = pd.DataFrame({'Lost proportion (%)' :round(data_na,2)})\n",
    "missing_data.head(20)"
   ]
  },
  {
   "cell_type": "code",
   "execution_count": 12,
   "metadata": {},
   "outputs": [],
   "source": [
    "from sklearn.impute  import SimpleImputer\n",
    "# We perform it with the most frequent value \n",
    "imputer = SimpleImputer ( missing_values = np.nan,strategy='most_frequent')\n",
    "\n",
    "imputer.fit(df[['SES']])\n",
    "df[['SES']] = imputer.fit_transform(df[['SES']])\n",
    "\n",
    "# We perform it with the median\n",
    "imputer = SimpleImputer ( missing_values = np.nan,strategy='median')\n",
    "\n",
    "imputer.fit(df[['MMSE']])\n",
    "df[['MMSE']] = imputer.fit_transform(df[['MMSE']])"
   ]
  },
  {
   "cell_type": "code",
   "execution_count": 13,
   "metadata": {},
   "outputs": [],
   "source": [
    "from sklearn.impute  import SimpleImputer\n",
    "# We perform it with the median\n",
    "imputer = SimpleImputer ( missing_values = np.nan,strategy='median')\n",
    "\n",
    "imputer.fit(df[['MMSE']])\n",
    "df[['MMSE']] = imputer.fit_transform(df[['MMSE']])"
   ]
  },
  {
   "cell_type": "code",
   "execution_count": 14,
   "metadata": {},
   "outputs": [],
   "source": [
    "from sklearn.preprocessing import StandardScaler\n",
    "df_norm = df\n",
    "scaler = StandardScaler()\n",
    "df_norm[['Age','MR Delay','M/F','Hand','EDUC','SES','MMSE','eTIV','nWBV','ASF']]=scaler.fit_transform(df[['Age','MR Delay','M/F','Hand','EDUC','SES','MMSE','eTIV','nWBV','ASF']])"
   ]
  },
  {
   "cell_type": "code",
   "execution_count": 15,
   "metadata": {},
   "outputs": [
    {
     "data": {
      "text/html": [
       "<div>\n",
       "<style scoped>\n",
       "    .dataframe tbody tr th:only-of-type {\n",
       "        vertical-align: middle;\n",
       "    }\n",
       "\n",
       "    .dataframe tbody tr th {\n",
       "        vertical-align: top;\n",
       "    }\n",
       "\n",
       "    .dataframe thead th {\n",
       "        text-align: right;\n",
       "    }\n",
       "</style>\n",
       "<table border=\"1\" class=\"dataframe\">\n",
       "  <thead>\n",
       "    <tr style=\"text-align: right;\">\n",
       "      <th></th>\n",
       "      <th>Group</th>\n",
       "      <th>MR Delay</th>\n",
       "      <th>M/F</th>\n",
       "      <th>Hand</th>\n",
       "      <th>Age</th>\n",
       "      <th>EDUC</th>\n",
       "      <th>SES</th>\n",
       "      <th>MMSE</th>\n",
       "      <th>eTIV</th>\n",
       "      <th>nWBV</th>\n",
       "      <th>ASF</th>\n",
       "    </tr>\n",
       "  </thead>\n",
       "  <tbody>\n",
       "    <tr>\n",
       "      <th>0</th>\n",
       "      <td>0</td>\n",
       "      <td>-0.937715</td>\n",
       "      <td>1.153798</td>\n",
       "      <td>0.0</td>\n",
       "      <td>1.308738</td>\n",
       "      <td>-0.208132</td>\n",
       "      <td>-0.394466</td>\n",
       "      <td>-0.095686</td>\n",
       "      <td>2.836059</td>\n",
       "      <td>-0.905169</td>\n",
       "      <td>-2.265742</td>\n",
       "    </tr>\n",
       "    <tr>\n",
       "      <th>1</th>\n",
       "      <td>0</td>\n",
       "      <td>-0.217613</td>\n",
       "      <td>1.153798</td>\n",
       "      <td>0.0</td>\n",
       "      <td>1.439787</td>\n",
       "      <td>-0.208132</td>\n",
       "      <td>-0.394466</td>\n",
       "      <td>0.721664</td>\n",
       "      <td>2.932703</td>\n",
       "      <td>-1.309643</td>\n",
       "      <td>-2.316501</td>\n",
       "    </tr>\n",
       "    <tr>\n",
       "      <th>2</th>\n",
       "      <td>1</td>\n",
       "      <td>-0.937715</td>\n",
       "      <td>1.153798</td>\n",
       "      <td>0.0</td>\n",
       "      <td>-0.263856</td>\n",
       "      <td>-0.904394</td>\n",
       "      <td>-0.394466</td>\n",
       "      <td>-1.185486</td>\n",
       "      <td>1.079409</td>\n",
       "      <td>0.173429</td>\n",
       "      <td>-1.083784</td>\n",
       "    </tr>\n",
       "  </tbody>\n",
       "</table>\n",
       "</div>"
      ],
      "text/plain": [
       "   Group  MR Delay       M/F  Hand       Age      EDUC       SES      MMSE  \\\n",
       "0      0 -0.937715  1.153798   0.0  1.308738 -0.208132 -0.394466 -0.095686   \n",
       "1      0 -0.217613  1.153798   0.0  1.439787 -0.208132 -0.394466  0.721664   \n",
       "2      1 -0.937715  1.153798   0.0 -0.263856 -0.904394 -0.394466 -1.185486   \n",
       "\n",
       "       eTIV      nWBV       ASF  \n",
       "0  2.836059 -0.905169 -2.265742  \n",
       "1  2.932703 -1.309643 -2.316501  \n",
       "2  1.079409  0.173429 -1.083784  "
      ]
     },
     "execution_count": 15,
     "metadata": {},
     "output_type": "execute_result"
    }
   ],
   "source": [
    "df_norm.head(3)"
   ]
  },
  {
   "cell_type": "code",
   "execution_count": 16,
   "metadata": {},
   "outputs": [],
   "source": [
    "df.drop(['Hand'], axis = 1, inplace = True, errors = 'ignore')\n",
    "df.drop(['MR Delay'], axis = 1, inplace = True, errors = 'ignore')"
   ]
  },
  {
   "cell_type": "code",
   "execution_count": 17,
   "metadata": {},
   "outputs": [
    {
     "data": {
      "text/html": [
       "<div>\n",
       "<style scoped>\n",
       "    .dataframe tbody tr th:only-of-type {\n",
       "        vertical-align: middle;\n",
       "    }\n",
       "\n",
       "    .dataframe tbody tr th {\n",
       "        vertical-align: top;\n",
       "    }\n",
       "\n",
       "    .dataframe thead th {\n",
       "        text-align: right;\n",
       "    }\n",
       "</style>\n",
       "<table border=\"1\" class=\"dataframe\">\n",
       "  <thead>\n",
       "    <tr style=\"text-align: right;\">\n",
       "      <th></th>\n",
       "      <th>Group</th>\n",
       "      <th>M/F</th>\n",
       "      <th>Age</th>\n",
       "      <th>EDUC</th>\n",
       "      <th>SES</th>\n",
       "      <th>MMSE</th>\n",
       "      <th>eTIV</th>\n",
       "      <th>nWBV</th>\n",
       "      <th>ASF</th>\n",
       "    </tr>\n",
       "  </thead>\n",
       "  <tbody>\n",
       "    <tr>\n",
       "      <th>0</th>\n",
       "      <td>0</td>\n",
       "      <td>1.153798</td>\n",
       "      <td>1.308738</td>\n",
       "      <td>-0.208132</td>\n",
       "      <td>-0.394466</td>\n",
       "      <td>-0.095686</td>\n",
       "      <td>2.836059</td>\n",
       "      <td>-0.905169</td>\n",
       "      <td>-2.265742</td>\n",
       "    </tr>\n",
       "    <tr>\n",
       "      <th>1</th>\n",
       "      <td>0</td>\n",
       "      <td>1.153798</td>\n",
       "      <td>1.439787</td>\n",
       "      <td>-0.208132</td>\n",
       "      <td>-0.394466</td>\n",
       "      <td>0.721664</td>\n",
       "      <td>2.932703</td>\n",
       "      <td>-1.309643</td>\n",
       "      <td>-2.316501</td>\n",
       "    </tr>\n",
       "    <tr>\n",
       "      <th>2</th>\n",
       "      <td>1</td>\n",
       "      <td>1.153798</td>\n",
       "      <td>-0.263856</td>\n",
       "      <td>-0.904394</td>\n",
       "      <td>-0.394466</td>\n",
       "      <td>-1.185486</td>\n",
       "      <td>1.079409</td>\n",
       "      <td>0.173429</td>\n",
       "      <td>-1.083784</td>\n",
       "    </tr>\n",
       "    <tr>\n",
       "      <th>3</th>\n",
       "      <td>1</td>\n",
       "      <td>1.153798</td>\n",
       "      <td>-0.132806</td>\n",
       "      <td>-0.904394</td>\n",
       "      <td>-0.394466</td>\n",
       "      <td>0.176764</td>\n",
       "      <td>1.420506</td>\n",
       "      <td>-0.446765</td>\n",
       "      <td>-1.344830</td>\n",
       "    </tr>\n",
       "    <tr>\n",
       "      <th>4</th>\n",
       "      <td>1</td>\n",
       "      <td>1.153798</td>\n",
       "      <td>0.391392</td>\n",
       "      <td>-0.904394</td>\n",
       "      <td>-0.394466</td>\n",
       "      <td>-1.457936</td>\n",
       "      <td>1.193108</td>\n",
       "      <td>-0.770344</td>\n",
       "      <td>-1.170800</td>\n",
       "    </tr>\n",
       "  </tbody>\n",
       "</table>\n",
       "</div>"
      ],
      "text/plain": [
       "   Group       M/F       Age      EDUC       SES      MMSE      eTIV  \\\n",
       "0      0  1.153798  1.308738 -0.208132 -0.394466 -0.095686  2.836059   \n",
       "1      0  1.153798  1.439787 -0.208132 -0.394466  0.721664  2.932703   \n",
       "2      1  1.153798 -0.263856 -0.904394 -0.394466 -1.185486  1.079409   \n",
       "3      1  1.153798 -0.132806 -0.904394 -0.394466  0.176764  1.420506   \n",
       "4      1  1.153798  0.391392 -0.904394 -0.394466 -1.457936  1.193108   \n",
       "\n",
       "       nWBV       ASF  \n",
       "0 -0.905169 -2.265742  \n",
       "1 -1.309643 -2.316501  \n",
       "2  0.173429 -1.083784  \n",
       "3 -0.446765 -1.344830  \n",
       "4 -0.770344 -1.170800  "
      ]
     },
     "execution_count": 17,
     "metadata": {},
     "output_type": "execute_result"
    }
   ],
   "source": [
    "df.head()"
   ]
  },
  {
   "cell_type": "code",
   "execution_count": 18,
   "metadata": {},
   "outputs": [],
   "source": [
    "data_test = df"
   ]
  },
  {
   "cell_type": "code",
   "execution_count": 19,
   "metadata": {},
   "outputs": [
    {
     "data": {
      "text/html": [
       "<div>\n",
       "<style scoped>\n",
       "    .dataframe tbody tr th:only-of-type {\n",
       "        vertical-align: middle;\n",
       "    }\n",
       "\n",
       "    .dataframe tbody tr th {\n",
       "        vertical-align: top;\n",
       "    }\n",
       "\n",
       "    .dataframe thead th {\n",
       "        text-align: right;\n",
       "    }\n",
       "</style>\n",
       "<table border=\"1\" class=\"dataframe\">\n",
       "  <thead>\n",
       "    <tr style=\"text-align: right;\">\n",
       "      <th></th>\n",
       "      <th>M/F</th>\n",
       "      <th>Age</th>\n",
       "      <th>EDUC</th>\n",
       "      <th>SES</th>\n",
       "      <th>MMSE</th>\n",
       "      <th>eTIV</th>\n",
       "      <th>nWBV</th>\n",
       "      <th>ASF</th>\n",
       "    </tr>\n",
       "  </thead>\n",
       "  <tbody>\n",
       "    <tr>\n",
       "      <th>0</th>\n",
       "      <td>1.153798</td>\n",
       "      <td>1.308738</td>\n",
       "      <td>-0.208132</td>\n",
       "      <td>-0.394466</td>\n",
       "      <td>-0.095686</td>\n",
       "      <td>2.836059</td>\n",
       "      <td>-0.905169</td>\n",
       "      <td>-2.265742</td>\n",
       "    </tr>\n",
       "    <tr>\n",
       "      <th>1</th>\n",
       "      <td>1.153798</td>\n",
       "      <td>1.439787</td>\n",
       "      <td>-0.208132</td>\n",
       "      <td>-0.394466</td>\n",
       "      <td>0.721664</td>\n",
       "      <td>2.932703</td>\n",
       "      <td>-1.309643</td>\n",
       "      <td>-2.316501</td>\n",
       "    </tr>\n",
       "    <tr>\n",
       "      <th>2</th>\n",
       "      <td>1.153798</td>\n",
       "      <td>-0.263856</td>\n",
       "      <td>-0.904394</td>\n",
       "      <td>-0.394466</td>\n",
       "      <td>-1.185486</td>\n",
       "      <td>1.079409</td>\n",
       "      <td>0.173429</td>\n",
       "      <td>-1.083784</td>\n",
       "    </tr>\n",
       "  </tbody>\n",
       "</table>\n",
       "</div>"
      ],
      "text/plain": [
       "        M/F       Age      EDUC       SES      MMSE      eTIV      nWBV  \\\n",
       "0  1.153798  1.308738 -0.208132 -0.394466 -0.095686  2.836059 -0.905169   \n",
       "1  1.153798  1.439787 -0.208132 -0.394466  0.721664  2.932703 -1.309643   \n",
       "2  1.153798 -0.263856 -0.904394 -0.394466 -1.185486  1.079409  0.173429   \n",
       "\n",
       "        ASF  \n",
       "0 -2.265742  \n",
       "1 -2.316501  \n",
       "2 -1.083784  "
      ]
     },
     "execution_count": 19,
     "metadata": {},
     "output_type": "execute_result"
    }
   ],
   "source": [
    "X = data_test.drop([\"Group\"],axis=1)\n",
    "y = data_test[\"Group\"].values\n",
    "X.head(3)"
   ]
  },
  {
   "cell_type": "code",
   "execution_count": 20,
   "metadata": {},
   "outputs": [],
   "source": [
    "# We divide our data into train and test\n",
    "X_train, X_test, y_train, y_test = train_test_split(X, y,random_state = 0)"
   ]
  },
  {
   "cell_type": "code",
   "execution_count": 21,
   "metadata": {},
   "outputs": [
    {
     "name": "stdout",
     "output_type": "stream",
     "text": [
      "74.80% Train\n",
      "25.20% Test\n"
     ]
    }
   ],
   "source": [
    "print(\"{0:0.2f}% Train\".format((len(X_train)/len(data_test.index)) * 100))\n",
    "print(\"{0:0.2f}% Test\".format((len(X_test)/len(data_test.index)) * 100))"
   ]
  },
  {
   "cell_type": "code",
   "execution_count": 22,
   "metadata": {},
   "outputs": [
    {
     "name": "stdout",
     "output_type": "stream",
     "text": [
      "Original Demented : 183 (49.06%)\n",
      "Original Nondemented : 190 (50.94%)\n",
      "\n",
      "Training Demented : 139 (49.82%)\n",
      "Training Nondemented : 140 (50.18%)\n",
      "\n",
      "Test Demented : 44 (46.81%)\n",
      "Test Nondemented : 50 (53.19%)\n"
     ]
    }
   ],
   "source": [
    "print(\"Original Demented : {0} ({1:0.2f}%)\".format(len(df_norm.loc[df_norm['Group'] == 1]), 100 * (len(df_norm.loc[df_norm['Group'] == 1]) / len(df_norm))))\n",
    "print(\"Original Nondemented : {0} ({1:0.2f}%)\".format(len(df_norm.loc[df_norm['Group'] == 0]), 100 * (len(df_norm.loc[df_norm['Group'] == 0]) / len(df_norm))))\n",
    "print(\"\")\n",
    "print(\"Training Demented : {0} ({1:0.2f}%)\".format(len(y_train[y_train[:] == 1]), 100 * (len(y_train[y_train[:] == 1]) / len(y_train))))\n",
    "print(\"Training Nondemented : {0} ({1:0.2f}%)\".format(len(y_train[y_train[:] == 0]), 100 * (len(y_train[y_train[:] == 0]) / len(y_train))))\n",
    "print(\"\")\n",
    "print(\"Test Demented : {0} ({1:0.2f}%)\".format(len(y_test[y_test[:] == 1]), 100 * (len(y_test[y_test[:] == 1]) / len(y_test))))\n",
    "print(\"Test Nondemented : {0} ({1:0.2f}%)\".format(len(y_test[y_test[:] == 0]), 100 * (len(y_test[y_test[:] == 0]) / len(y_test))))"
   ]
  },
  {
   "cell_type": "markdown",
   "metadata": {},
   "source": [
    "## KNN Algorithm"
   ]
  },
  {
   "cell_type": "code",
   "execution_count": 23,
   "metadata": {},
   "outputs": [],
   "source": [
    "from sklearn.neighbors import KNeighborsClassifier"
   ]
  },
  {
   "cell_type": "code",
   "execution_count": 24,
   "metadata": {},
   "outputs": [],
   "source": [
    "model_knn = KNeighborsClassifier()"
   ]
  },
  {
   "cell_type": "code",
   "execution_count": 25,
   "metadata": {},
   "outputs": [
    {
     "data": {
      "text/plain": [
       "KNeighborsClassifier(algorithm='auto', leaf_size=30, metric='minkowski',\n",
       "                     metric_params=None, n_jobs=None, n_neighbors=5, p=2,\n",
       "                     weights='uniform')"
      ]
     },
     "execution_count": 25,
     "metadata": {},
     "output_type": "execute_result"
    }
   ],
   "source": [
    "model_knn.fit(X_train , y_train)"
   ]
  },
  {
   "cell_type": "code",
   "execution_count": 26,
   "metadata": {},
   "outputs": [
    {
     "data": {
      "text/plain": [
       "0.7978723404255319"
      ]
     },
     "execution_count": 26,
     "metadata": {},
     "output_type": "execute_result"
    }
   ],
   "source": [
    "model_knn.score(X_test , y_test)"
   ]
  },
  {
   "cell_type": "markdown",
   "metadata": {},
   "source": [
    "## Logistic Regression"
   ]
  },
  {
   "cell_type": "code",
   "execution_count": 27,
   "metadata": {},
   "outputs": [],
   "source": [
    "from sklearn.linear_model import LogisticRegression"
   ]
  },
  {
   "cell_type": "code",
   "execution_count": 28,
   "metadata": {},
   "outputs": [],
   "source": [
    "model_lr = LogisticRegression()"
   ]
  },
  {
   "cell_type": "code",
   "execution_count": 29,
   "metadata": {},
   "outputs": [
    {
     "name": "stderr",
     "output_type": "stream",
     "text": [
      "c:\\users\\shubham\\appdata\\local\\programs\\python\\python36-32\\lib\\site-packages\\sklearn\\linear_model\\logistic.py:432: FutureWarning:\n",
      "\n",
      "Default solver will be changed to 'lbfgs' in 0.22. Specify a solver to silence this warning.\n",
      "\n"
     ]
    },
    {
     "data": {
      "text/plain": [
       "LogisticRegression(C=1.0, class_weight=None, dual=False, fit_intercept=True,\n",
       "                   intercept_scaling=1, l1_ratio=None, max_iter=100,\n",
       "                   multi_class='warn', n_jobs=None, penalty='l2',\n",
       "                   random_state=None, solver='warn', tol=0.0001, verbose=0,\n",
       "                   warm_start=False)"
      ]
     },
     "execution_count": 29,
     "metadata": {},
     "output_type": "execute_result"
    }
   ],
   "source": [
    "model_lr.fit(X_train , y_train)"
   ]
  },
  {
   "cell_type": "code",
   "execution_count": 30,
   "metadata": {},
   "outputs": [
    {
     "data": {
      "text/plain": [
       "0.7978723404255319"
      ]
     },
     "execution_count": 30,
     "metadata": {},
     "output_type": "execute_result"
    }
   ],
   "source": [
    "model_lr.score(X_test , y_test)"
   ]
  },
  {
   "cell_type": "markdown",
   "metadata": {},
   "source": [
    "## Decision Trees"
   ]
  },
  {
   "cell_type": "code",
   "execution_count": 31,
   "metadata": {},
   "outputs": [],
   "source": [
    "from sklearn.tree import DecisionTreeClassifier"
   ]
  },
  {
   "cell_type": "code",
   "execution_count": 32,
   "metadata": {},
   "outputs": [],
   "source": [
    "model_dt = DecisionTreeClassifier()"
   ]
  },
  {
   "cell_type": "code",
   "execution_count": 33,
   "metadata": {},
   "outputs": [
    {
     "data": {
      "text/plain": [
       "DecisionTreeClassifier(class_weight=None, criterion='gini', max_depth=None,\n",
       "                       max_features=None, max_leaf_nodes=None,\n",
       "                       min_impurity_decrease=0.0, min_impurity_split=None,\n",
       "                       min_samples_leaf=1, min_samples_split=2,\n",
       "                       min_weight_fraction_leaf=0.0, presort=False,\n",
       "                       random_state=None, splitter='best')"
      ]
     },
     "execution_count": 33,
     "metadata": {},
     "output_type": "execute_result"
    }
   ],
   "source": [
    "model_dt.fit(X_train , y_train)"
   ]
  },
  {
   "cell_type": "code",
   "execution_count": 34,
   "metadata": {},
   "outputs": [
    {
     "data": {
      "text/plain": [
       "0.7553191489361702"
      ]
     },
     "execution_count": 34,
     "metadata": {},
     "output_type": "execute_result"
    }
   ],
   "source": [
    "model_dt.score(X_test , y_test)"
   ]
  },
  {
   "cell_type": "markdown",
   "metadata": {},
   "source": [
    "## Naive Bayes"
   ]
  },
  {
   "cell_type": "code",
   "execution_count": 35,
   "metadata": {},
   "outputs": [],
   "source": [
    "from sklearn.naive_bayes import *"
   ]
  },
  {
   "cell_type": "code",
   "execution_count": 36,
   "metadata": {},
   "outputs": [],
   "source": [
    "model_nb_g = GaussianNB() "
   ]
  },
  {
   "cell_type": "code",
   "execution_count": 37,
   "metadata": {},
   "outputs": [
    {
     "data": {
      "text/plain": [
       "GaussianNB(priors=None, var_smoothing=1e-09)"
      ]
     },
     "execution_count": 37,
     "metadata": {},
     "output_type": "execute_result"
    }
   ],
   "source": [
    "model_nb_g.fit(X_train , y_train)"
   ]
  },
  {
   "cell_type": "code",
   "execution_count": 38,
   "metadata": {},
   "outputs": [
    {
     "data": {
      "text/plain": [
       "0.7872340425531915"
      ]
     },
     "execution_count": 38,
     "metadata": {},
     "output_type": "execute_result"
    }
   ],
   "source": [
    "model_nb_g.score(X_test , y_test)"
   ]
  },
  {
   "cell_type": "code",
   "execution_count": 39,
   "metadata": {},
   "outputs": [],
   "source": [
    "model_nb_b = BernoulliNB()"
   ]
  },
  {
   "cell_type": "code",
   "execution_count": 40,
   "metadata": {},
   "outputs": [
    {
     "data": {
      "text/plain": [
       "BernoulliNB(alpha=1.0, binarize=0.0, class_prior=None, fit_prior=True)"
      ]
     },
     "execution_count": 40,
     "metadata": {},
     "output_type": "execute_result"
    }
   ],
   "source": [
    "model_nb_b.fit(X_train , y_train)"
   ]
  },
  {
   "cell_type": "code",
   "execution_count": 41,
   "metadata": {},
   "outputs": [
    {
     "data": {
      "text/plain": [
       "0.7553191489361702"
      ]
     },
     "execution_count": 41,
     "metadata": {},
     "output_type": "execute_result"
    }
   ],
   "source": [
    "model_nb_b.score(X_test , y_test)"
   ]
  },
  {
   "cell_type": "markdown",
   "metadata": {},
   "source": [
    "## Random Forest"
   ]
  },
  {
   "cell_type": "code",
   "execution_count": 42,
   "metadata": {},
   "outputs": [],
   "source": [
    "from sklearn.ensemble import RandomForestClassifier"
   ]
  },
  {
   "cell_type": "code",
   "execution_count": 43,
   "metadata": {},
   "outputs": [],
   "source": [
    "model_rf = RandomForestClassifier(n_estimators=10)"
   ]
  },
  {
   "cell_type": "code",
   "execution_count": 44,
   "metadata": {},
   "outputs": [
    {
     "data": {
      "text/plain": [
       "RandomForestClassifier(bootstrap=True, class_weight=None, criterion='gini',\n",
       "                       max_depth=None, max_features='auto', max_leaf_nodes=None,\n",
       "                       min_impurity_decrease=0.0, min_impurity_split=None,\n",
       "                       min_samples_leaf=1, min_samples_split=2,\n",
       "                       min_weight_fraction_leaf=0.0, n_estimators=10,\n",
       "                       n_jobs=None, oob_score=False, random_state=None,\n",
       "                       verbose=0, warm_start=False)"
      ]
     },
     "execution_count": 44,
     "metadata": {},
     "output_type": "execute_result"
    }
   ],
   "source": [
    "model_rf.fit(X_train , y_train)"
   ]
  },
  {
   "cell_type": "code",
   "execution_count": 45,
   "metadata": {},
   "outputs": [
    {
     "data": {
      "text/plain": [
       "0.7872340425531915"
      ]
     },
     "execution_count": 45,
     "metadata": {},
     "output_type": "execute_result"
    }
   ],
   "source": [
    "model_rf.score(X_test , y_test)"
   ]
  },
  {
   "cell_type": "markdown",
   "metadata": {},
   "source": [
    "### Performnce"
   ]
  },
  {
   "cell_type": "code",
   "execution_count": 46,
   "metadata": {},
   "outputs": [],
   "source": [
    "Predicted_knn= model_knn.predict(X_test)\n",
    "Predicted_lr = model_lr.predict(X_test)\n",
    "Predicted_nb_b = model_nb_b.predict(X_test)\n",
    "Predicted_nb_g= model_nb_g.predict(X_test)\n",
    "Predicted_dt = model_dt.predict(X_test)\n"
   ]
  },
  {
   "cell_type": "code",
   "execution_count": 48,
   "metadata": {},
   "outputs": [],
   "source": [
    "acc = []"
   ]
  },
  {
   "cell_type": "code",
   "execution_count": 49,
   "metadata": {},
   "outputs": [
    {
     "name": "stderr",
     "output_type": "stream",
     "text": [
      "c:\\users\\shubham\\appdata\\local\\programs\\python\\python36-32\\lib\\site-packages\\sklearn\\linear_model\\logistic.py:432: FutureWarning:\n",
      "\n",
      "Default solver will be changed to 'lbfgs' in 0.22. Specify a solver to silence this warning.\n",
      "\n",
      "c:\\users\\shubham\\appdata\\local\\programs\\python\\python36-32\\lib\\site-packages\\sklearn\\linear_model\\logistic.py:432: FutureWarning:\n",
      "\n",
      "Default solver will be changed to 'lbfgs' in 0.22. Specify a solver to silence this warning.\n",
      "\n",
      "c:\\users\\shubham\\appdata\\local\\programs\\python\\python36-32\\lib\\site-packages\\sklearn\\linear_model\\logistic.py:432: FutureWarning:\n",
      "\n",
      "Default solver will be changed to 'lbfgs' in 0.22. Specify a solver to silence this warning.\n",
      "\n",
      "c:\\users\\shubham\\appdata\\local\\programs\\python\\python36-32\\lib\\site-packages\\sklearn\\linear_model\\logistic.py:432: FutureWarning:\n",
      "\n",
      "Default solver will be changed to 'lbfgs' in 0.22. Specify a solver to silence this warning.\n",
      "\n",
      "c:\\users\\shubham\\appdata\\local\\programs\\python\\python36-32\\lib\\site-packages\\sklearn\\linear_model\\logistic.py:432: FutureWarning:\n",
      "\n",
      "Default solver will be changed to 'lbfgs' in 0.22. Specify a solver to silence this warning.\n",
      "\n",
      "c:\\users\\shubham\\appdata\\local\\programs\\python\\python36-32\\lib\\site-packages\\sklearn\\linear_model\\logistic.py:432: FutureWarning:\n",
      "\n",
      "Default solver will be changed to 'lbfgs' in 0.22. Specify a solver to silence this warning.\n",
      "\n",
      "c:\\users\\shubham\\appdata\\local\\programs\\python\\python36-32\\lib\\site-packages\\sklearn\\linear_model\\logistic.py:432: FutureWarning:\n",
      "\n",
      "Default solver will be changed to 'lbfgs' in 0.22. Specify a solver to silence this warning.\n",
      "\n",
      "c:\\users\\shubham\\appdata\\local\\programs\\python\\python36-32\\lib\\site-packages\\sklearn\\linear_model\\logistic.py:432: FutureWarning:\n",
      "\n",
      "Default solver will be changed to 'lbfgs' in 0.22. Specify a solver to silence this warning.\n",
      "\n",
      "c:\\users\\shubham\\appdata\\local\\programs\\python\\python36-32\\lib\\site-packages\\sklearn\\linear_model\\logistic.py:432: FutureWarning:\n",
      "\n",
      "Default solver will be changed to 'lbfgs' in 0.22. Specify a solver to silence this warning.\n",
      "\n",
      "c:\\users\\shubham\\appdata\\local\\programs\\python\\python36-32\\lib\\site-packages\\sklearn\\linear_model\\logistic.py:432: FutureWarning:\n",
      "\n",
      "Default solver will be changed to 'lbfgs' in 0.22. Specify a solver to silence this warning.\n",
      "\n"
     ]
    }
   ],
   "source": [
    "model='KNN'\n",
    "test_score = cross_val_score(model_knn, X_train, y_train, cv=FOLDS, scoring='accuracy').mean() # Get recall for each parameter setting\n",
    "test_recall = recall_score(y_test, Predicted_knn, pos_label=1)\n",
    "fpr, tpr, thresholds = roc_curve(y_test, Predicted_knn, pos_label=1)\n",
    "test_auc = auc(fpr, tpr)\n",
    "acc.append([model,test_score, test_recall, test_auc, fpr, tpr, thresholds])\n",
    "\n",
    "model='Logistic Regression'\n",
    "test_score = cross_val_score(model_lr, X_train, y_train, cv=FOLDS, scoring='accuracy').mean() # Get recall for each parameter setting\n",
    "test_recall = recall_score(y_test, Predicted_lr, pos_label=1)\n",
    "fpr, tpr, thresholds = roc_curve(y_test, Predicted_lr, pos_label=1)\n",
    "test_auc = auc(fpr, tpr)\n",
    "acc.append([model, test_score,test_recall, test_auc, fpr, tpr, thresholds])\n",
    "\n",
    "model='Naive Bayes Bernoulli'\n",
    "test_score = cross_val_score(model_nb_b, X_train, y_train, cv=FOLDS, scoring='accuracy').mean() # Get recall for each parameter setting\n",
    "test_recall = recall_score(y_test, Predicted_nb_b, pos_label=1)\n",
    "fpr, tpr, thresholds = roc_curve(y_test, Predicted_nb_b, pos_label=1)\n",
    "test_auc = auc(fpr, tpr)\n",
    "acc.append([model, test_score,test_recall, test_auc, fpr, tpr, thresholds])\n",
    "\n",
    "model='Naive Bayes Gaussian'\n",
    "test_score = cross_val_score(model_nb_g, X_train, y_train, cv=FOLDS, scoring='accuracy').mean() # Get recall for each parameter setting\n",
    "test_recall = recall_score(y_test, Predicted_nb_g, pos_label=1)\n",
    "fpr, tpr, thresholds = roc_curve(y_test, Predicted_nb_g, pos_label=1)\n",
    "test_auc = auc(fpr, tpr)\n",
    "acc.append([model, test_score, test_recall, test_auc, fpr, tpr, thresholds])\n",
    "\n",
    "model='Decision Tree'\n",
    "test_score = cross_val_score(model_dt, X_train, y_train, cv=FOLDS, scoring='accuracy').mean() # Get recall for each parameter setting\n",
    "test_recall = recall_score(y_test, Predicted_dt, pos_label=1)\n",
    "fpr, tpr, thresholds = roc_curve(y_test, Predicted_dt, pos_label=1)\n",
    "test_auc = auc(fpr, tpr)\n",
    "acc.append([model, test_score, test_recall, test_auc, fpr, tpr, thresholds])\n"
   ]
  },
  {
   "cell_type": "code",
   "execution_count": 54,
   "metadata": {},
   "outputs": [],
   "source": [
    "def report_performance(model, a):\n",
    "\n",
    "    model_test = model.predict(X_test)\n",
    "    print(a)\n",
    "    print(\"Confusion Matrix\")\n",
    "    print(\"{0}\".format(metrics.confusion_matrix(y_test, model_test)))\n",
    "    print(\"\")\n",
    "    print(\"Classification Report\")\n",
    "    print(metrics.classification_report(y_test, model_test))"
   ]
  },
  {
   "cell_type": "code",
   "execution_count": 55,
   "metadata": {},
   "outputs": [
    {
     "name": "stdout",
     "output_type": "stream",
     "text": [
      "KNN\n",
      "Confusion Matrix\n",
      "[[40 10]\n",
      " [ 9 35]]\n",
      "\n",
      "Classification Report\n",
      "              precision    recall  f1-score   support\n",
      "\n",
      "           0       0.82      0.80      0.81        50\n",
      "           1       0.78      0.80      0.79        44\n",
      "\n",
      "    accuracy                           0.80        94\n",
      "   macro avg       0.80      0.80      0.80        94\n",
      "weighted avg       0.80      0.80      0.80        94\n",
      "\n",
      "Logistic Regression\n",
      "Confusion Matrix\n",
      "[[39 11]\n",
      " [ 8 36]]\n",
      "\n",
      "Classification Report\n",
      "              precision    recall  f1-score   support\n",
      "\n",
      "           0       0.83      0.78      0.80        50\n",
      "           1       0.77      0.82      0.79        44\n",
      "\n",
      "    accuracy                           0.80        94\n",
      "   macro avg       0.80      0.80      0.80        94\n",
      "weighted avg       0.80      0.80      0.80        94\n",
      "\n",
      "Naive Bayes Bernoulli\n",
      "Confusion Matrix\n",
      "[[36 14]\n",
      " [ 9 35]]\n",
      "\n",
      "Classification Report\n",
      "              precision    recall  f1-score   support\n",
      "\n",
      "           0       0.80      0.72      0.76        50\n",
      "           1       0.71      0.80      0.75        44\n",
      "\n",
      "    accuracy                           0.76        94\n",
      "   macro avg       0.76      0.76      0.76        94\n",
      "weighted avg       0.76      0.76      0.76        94\n",
      "\n",
      "Naive Bayes Gaussian\n",
      "Confusion Matrix\n",
      "[[42  8]\n",
      " [12 32]]\n",
      "\n",
      "Classification Report\n",
      "              precision    recall  f1-score   support\n",
      "\n",
      "           0       0.78      0.84      0.81        50\n",
      "           1       0.80      0.73      0.76        44\n",
      "\n",
      "    accuracy                           0.79        94\n",
      "   macro avg       0.79      0.78      0.78        94\n",
      "weighted avg       0.79      0.79      0.79        94\n",
      "\n",
      "Decision Tree\n",
      "Confusion Matrix\n",
      "[[36 14]\n",
      " [ 9 35]]\n",
      "\n",
      "Classification Report\n",
      "              precision    recall  f1-score   support\n",
      "\n",
      "           0       0.80      0.72      0.76        50\n",
      "           1       0.71      0.80      0.75        44\n",
      "\n",
      "    accuracy                           0.76        94\n",
      "   macro avg       0.76      0.76      0.76        94\n",
      "weighted avg       0.76      0.76      0.76        94\n",
      "\n"
     ]
    }
   ],
   "source": [
    "report_performance(model_knn,'KNN')\n",
    "report_performance(model_lr,'Logistic Regression')\n",
    "report_performance(model_nb_b,'Naive Bayes Bernoulli')\n",
    "report_performance(model_nb_g, 'Naive Bayes Gaussian')\n",
    "report_performance(model_dt,'Decision Tree')"
   ]
  },
  {
   "cell_type": "code",
   "execution_count": 56,
   "metadata": {},
   "outputs": [
    {
     "data": {
      "text/html": [
       "<div>\n",
       "<style scoped>\n",
       "    .dataframe tbody tr th:only-of-type {\n",
       "        vertical-align: middle;\n",
       "    }\n",
       "\n",
       "    .dataframe tbody tr th {\n",
       "        vertical-align: top;\n",
       "    }\n",
       "\n",
       "    .dataframe thead th {\n",
       "        text-align: right;\n",
       "    }\n",
       "</style>\n",
       "<table border=\"1\" class=\"dataframe\">\n",
       "  <thead>\n",
       "    <tr style=\"text-align: right;\">\n",
       "      <th></th>\n",
       "      <th>Model</th>\n",
       "      <th>Accuracy</th>\n",
       "      <th>Recall</th>\n",
       "      <th>AUC</th>\n",
       "    </tr>\n",
       "  </thead>\n",
       "  <tbody>\n",
       "    <tr>\n",
       "      <th>0</th>\n",
       "      <td>KNN</td>\n",
       "      <td>0.746032</td>\n",
       "      <td>0.795455</td>\n",
       "      <td>0.797727</td>\n",
       "    </tr>\n",
       "    <tr>\n",
       "      <th>1</th>\n",
       "      <td>Logistic Regression</td>\n",
       "      <td>0.795899</td>\n",
       "      <td>0.818182</td>\n",
       "      <td>0.799091</td>\n",
       "    </tr>\n",
       "    <tr>\n",
       "      <th>2</th>\n",
       "      <td>Naive Bayes Bernoulli</td>\n",
       "      <td>0.770767</td>\n",
       "      <td>0.795455</td>\n",
       "      <td>0.757727</td>\n",
       "    </tr>\n",
       "    <tr>\n",
       "      <th>3</th>\n",
       "      <td>Naive Bayes Gaussian</td>\n",
       "      <td>0.777910</td>\n",
       "      <td>0.727273</td>\n",
       "      <td>0.783636</td>\n",
       "    </tr>\n",
       "    <tr>\n",
       "      <th>4</th>\n",
       "      <td>Decision Tree</td>\n",
       "      <td>0.792063</td>\n",
       "      <td>0.795455</td>\n",
       "      <td>0.757727</td>\n",
       "    </tr>\n",
       "  </tbody>\n",
       "</table>\n",
       "</div>"
      ],
      "text/plain": [
       "                   Model  Accuracy    Recall       AUC\n",
       "0                    KNN  0.746032  0.795455  0.797727\n",
       "1    Logistic Regression  0.795899  0.818182  0.799091\n",
       "2  Naive Bayes Bernoulli  0.770767  0.795455  0.757727\n",
       "3   Naive Bayes Gaussian  0.777910  0.727273  0.783636\n",
       "4          Decision Tree  0.792063  0.795455  0.757727"
      ]
     },
     "execution_count": 56,
     "metadata": {},
     "output_type": "execute_result"
    }
   ],
   "source": [
    "result = pd.DataFrame(acc, columns=['Model', 'Accuracy', 'Recall', 'AUC', 'FPR', 'TPR', 'TH'])\n",
    "result[['Model', 'Accuracy', 'Recall', 'AUC']]"
   ]
  },
  {
   "cell_type": "markdown",
   "metadata": {},
   "source": [
    "## Deep Forest"
   ]
  },
  {
   "cell_type": "code",
   "execution_count": 100,
   "metadata": {},
   "outputs": [
    {
     "ename": "ModuleNotFoundError",
     "evalue": "No module named 'deepforest'",
     "output_type": "error",
     "traceback": [
      "\u001b[1;31m---------------------------------------------------------------------------\u001b[0m",
      "\u001b[1;31mModuleNotFoundError\u001b[0m                       Traceback (most recent call last)",
      "\u001b[1;32m<ipython-input-100-b9e27a188b4b>\u001b[0m in \u001b[0;36m<module>\u001b[1;34m\u001b[0m\n\u001b[1;32m----> 1\u001b[1;33m \u001b[1;32mfrom\u001b[0m \u001b[0mdeepforest\u001b[0m \u001b[1;32mimport\u001b[0m \u001b[0mdeepforest\u001b[0m\u001b[1;33m\u001b[0m\u001b[1;33m\u001b[0m\u001b[0m\n\u001b[0m",
      "\u001b[1;31mModuleNotFoundError\u001b[0m: No module named 'deepforest'"
     ]
    }
   ],
   "source": []
  },
  {
   "cell_type": "code",
   "execution_count": null,
   "metadata": {},
   "outputs": [],
   "source": []
  },
  {
   "cell_type": "code",
   "execution_count": 99,
   "metadata": {},
   "outputs": [
    {
     "name": "stdout",
     "output_type": "stream",
     "text": [
      "Collecting DeepForest\n",
      "  Using cached https://files.pythonhosted.org/packages/fa/4b/baea4c084f93671dea2d2aaf3e2625d88a394f8169250c954e0b41f27f3c/deepforest-0.2.10-cp37-cp37m-win_amd64.whl\n",
      "Requirement already satisfied: progressbar2 in c:\\users\\pradhyumna\\anaconda3\\lib\\site-packages (from DeepForest) (3.47.0)\n",
      "Requirement already satisfied: pyyaml in c:\\users\\pradhyumna\\anaconda3\\lib\\site-packages (from DeepForest) (3.13)\n",
      "Requirement already satisfied: six in c:\\users\\pradhyumna\\anaconda3\\lib\\site-packages (from DeepForest) (1.12.0)\n",
      "Requirement already satisfied: opencv-python in c:\\users\\pradhyumna\\anaconda3\\lib\\site-packages (from DeepForest) (4.1.0.25)\n",
      "Requirement already satisfied: keras>2.3.0 in c:\\users\\pradhyumna\\anaconda3\\lib\\site-packages (from DeepForest) (2.3.1)\n",
      "Requirement already satisfied: slidingwindow in c:\\users\\pradhyumna\\anaconda3\\lib\\site-packages (from DeepForest) (0.0.13)\n",
      "Requirement already satisfied: xmltodict in c:\\users\\pradhyumna\\anaconda3\\lib\\site-packages (from DeepForest) (0.12.0)\n",
      "Requirement already satisfied: scipy in c:\\users\\pradhyumna\\anaconda3\\lib\\site-packages (from DeepForest) (1.1.0)\n",
      "Requirement already satisfied: matplotlib in c:\\users\\pradhyumna\\anaconda3\\lib\\site-packages (from DeepForest) (3.0.2)\n",
      "Requirement already satisfied: Pillow in c:\\users\\pradhyumna\\anaconda3\\lib\\site-packages (from DeepForest) (5.3.0)\n",
      "Collecting tensorflow==1.14.0 (from DeepForest)\n",
      "  Using cached https://files.pythonhosted.org/packages/f7/08/25e47a53692c2e0dcd2211a493ddfe9007a5cd92e175d6dffa6169a0b392/tensorflow-1.14.0-cp37-cp37m-win_amd64.whl\n",
      "Requirement already satisfied: keras-resnet==0.1.0 in c:\\users\\pradhyumna\\anaconda3\\lib\\site-packages (from DeepForest) (0.1.0)\n",
      "Requirement already satisfied: pandas in c:\\users\\pradhyumna\\anaconda3\\lib\\site-packages (from DeepForest) (0.23.4)\n",
      "Requirement already satisfied: tqdm in c:\\users\\pradhyumna\\anaconda3\\lib\\site-packages (from DeepForest) (4.28.1)\n",
      "Requirement already satisfied: python-utils>=2.3.0 in c:\\users\\pradhyumna\\anaconda3\\lib\\site-packages (from progressbar2->DeepForest) (2.3.0)\n",
      "Requirement already satisfied: numpy>=1.14.5 in c:\\users\\pradhyumna\\anaconda3\\lib\\site-packages (from opencv-python->DeepForest) (1.15.4)\n",
      "Requirement already satisfied: keras-preprocessing>=1.0.5 in c:\\users\\pradhyumna\\anaconda3\\lib\\site-packages (from keras>2.3.0->DeepForest) (1.1.0)\n",
      "Requirement already satisfied: keras-applications>=1.0.6 in c:\\users\\pradhyumna\\anaconda3\\lib\\site-packages (from keras>2.3.0->DeepForest) (1.0.8)\n",
      "Requirement already satisfied: h5py in c:\\users\\pradhyumna\\anaconda3\\lib\\site-packages (from keras>2.3.0->DeepForest) (2.8.0)\n",
      "Requirement already satisfied: psutil in c:\\users\\pradhyumna\\anaconda3\\lib\\site-packages (from slidingwindow->DeepForest) (5.4.8)\n",
      "Requirement already satisfied: cycler>=0.10 in c:\\users\\pradhyumna\\anaconda3\\lib\\site-packages (from matplotlib->DeepForest) (0.10.0)\n",
      "Requirement already satisfied: kiwisolver>=1.0.1 in c:\\users\\pradhyumna\\anaconda3\\lib\\site-packages (from matplotlib->DeepForest) (1.0.1)\n",
      "Requirement already satisfied: pyparsing!=2.0.4,!=2.1.2,!=2.1.6,>=2.0.1 in c:\\users\\pradhyumna\\anaconda3\\lib\\site-packages (from matplotlib->DeepForest) (2.3.0)\n",
      "Requirement already satisfied: python-dateutil>=2.1 in c:\\users\\pradhyumna\\anaconda3\\lib\\site-packages (from matplotlib->DeepForest) (2.7.5)\n",
      "Requirement already satisfied: google-pasta>=0.1.6 in c:\\users\\pradhyumna\\anaconda3\\lib\\site-packages (from tensorflow==1.14.0->DeepForest) (0.1.8)\n",
      "Requirement already satisfied: wheel>=0.26 in c:\\users\\pradhyumna\\anaconda3\\lib\\site-packages (from tensorflow==1.14.0->DeepForest) (0.32.3)\n",
      "Requirement already satisfied: protobuf>=3.6.1 in c:\\users\\pradhyumna\\anaconda3\\lib\\site-packages (from tensorflow==1.14.0->DeepForest) (3.8.0)\n",
      "Requirement already satisfied: astor>=0.6.0 in c:\\users\\pradhyumna\\anaconda3\\lib\\site-packages (from tensorflow==1.14.0->DeepForest) (0.7.1)\n",
      "Requirement already satisfied: gast>=0.2.0 in c:\\users\\pradhyumna\\anaconda3\\lib\\site-packages (from tensorflow==1.14.0->DeepForest) (0.2.2)\n",
      "Collecting tensorboard<1.15.0,>=1.14.0 (from tensorflow==1.14.0->DeepForest)\n",
      "  Using cached https://files.pythonhosted.org/packages/91/2d/2ed263449a078cd9c8a9ba50ebd50123adf1f8cfbea1492f9084169b89d9/tensorboard-1.14.0-py3-none-any.whl\n",
      "Requirement already satisfied: tensorflow-estimator<1.15.0rc0,>=1.14.0rc0 in c:\\users\\pradhyumna\\anaconda3\\lib\\site-packages (from tensorflow==1.14.0->DeepForest) (1.14.0)\n",
      "Requirement already satisfied: termcolor>=1.1.0 in c:\\users\\pradhyumna\\anaconda3\\lib\\site-packages (from tensorflow==1.14.0->DeepForest) (1.1.0)\n",
      "Requirement already satisfied: grpcio>=1.8.6 in c:\\users\\pradhyumna\\anaconda3\\lib\\site-packages (from tensorflow==1.14.0->DeepForest) (1.16.1)\n",
      "Collecting wrapt>=1.11.1 (from tensorflow==1.14.0->DeepForest)\n",
      "Requirement already satisfied: absl-py>=0.7.0 in c:\\users\\pradhyumna\\anaconda3\\lib\\site-packages (from tensorflow==1.14.0->DeepForest) (0.7.1)\n",
      "Requirement already satisfied: pytz>=2011k in c:\\users\\pradhyumna\\anaconda3\\lib\\site-packages (from pandas->DeepForest) (2018.7)\n",
      "Requirement already satisfied: setuptools in c:\\users\\pradhyumna\\anaconda3\\lib\\site-packages (from kiwisolver>=1.0.1->matplotlib->DeepForest) (40.6.3)\n",
      "Requirement already satisfied: markdown>=2.6.8 in c:\\users\\pradhyumna\\anaconda3\\lib\\site-packages (from tensorboard<1.15.0,>=1.14.0->tensorflow==1.14.0->DeepForest) (3.1.1)\n",
      "Requirement already satisfied: werkzeug>=0.11.15 in c:\\users\\pradhyumna\\anaconda3\\lib\\site-packages (from tensorboard<1.15.0,>=1.14.0->tensorflow==1.14.0->DeepForest) (0.14.1)\n",
      "Installing collected packages: tensorboard, wrapt, tensorflow, DeepForest\n",
      "  Found existing installation: tensorboard 1.13.1\n",
      "    Uninstalling tensorboard-1.13.1:\n",
      "      Successfully uninstalled tensorboard-1.13.1\n",
      "  Found existing installation: wrapt 1.10.11\n"
     ]
    },
    {
     "name": "stderr",
     "output_type": "stream",
     "text": [
      "ERROR: tensorboard 1.14.0 has requirement setuptools>=41.0.0, but you'll have setuptools 40.6.3 which is incompatible.\n",
      "ERROR: Cannot uninstall 'wrapt'. It is a distutils installed project and thus we cannot accurately determine which files belong to it which would lead to only a partial uninstall.\n",
      "WARNING: You are using pip version 19.1.1, however version 20.0.2 is available.\n",
      "You should consider upgrading via the 'python -m pip install --upgrade pip' command.\n"
     ]
    }
   ],
   "source": [
    "! pip install DeepForest"
   ]
  },
  {
   "cell_type": "markdown",
   "metadata": {},
   "source": [
    "\n",
    "\n",
    "## MLP"
   ]
  },
  {
   "cell_type": "code",
   "execution_count": 72,
   "metadata": {},
   "outputs": [],
   "source": [
    "from keras.layers import *\n",
    "from keras.models import *\n",
    "from keras.utils import to_categorical"
   ]
  },
  {
   "cell_type": "code",
   "execution_count": 73,
   "metadata": {},
   "outputs": [],
   "source": [
    "y_train_c = to_categorical(y_train)\n",
    "y_test_c = to_categorical(y_test)"
   ]
  },
  {
   "cell_type": "code",
   "execution_count": 74,
   "metadata": {},
   "outputs": [
    {
     "name": "stdout",
     "output_type": "stream",
     "text": [
      "_________________________________________________________________\n",
      "Layer (type)                 Output Shape              Param #   \n",
      "=================================================================\n",
      "dense_59 (Dense)             (None, 16)                144       \n",
      "_________________________________________________________________\n",
      "dense_60 (Dense)             (None, 8)                 136       \n",
      "_________________________________________________________________\n",
      "dense_61 (Dense)             (None, 8)                 72        \n",
      "_________________________________________________________________\n",
      "dense_62 (Dense)             (None, 4)                 36        \n",
      "_________________________________________________________________\n",
      "dense_63 (Dense)             (None, 2)                 10        \n",
      "=================================================================\n",
      "Total params: 398\n",
      "Trainable params: 398\n",
      "Non-trainable params: 0\n",
      "_________________________________________________________________\n"
     ]
    }
   ],
   "source": [
    "deep_mlp = Sequential()\n",
    "deep_mlp.add(Dense(16 ,activation = \"tanh\" , input_shape=[8]))\n",
    "deep_mlp.add(Dense(8 , activation=\"tanh\"))\n",
    "deep_mlp.add(Dense(8 , activation=\"tanh\"))\n",
    "deep_mlp.add(Dense(4 , activation=\"tanh\"))\n",
    "deep_mlp.add(Dense(2 , activation=\"softmax\"))\n",
    "deep_mlp.summary()"
   ]
  },
  {
   "cell_type": "code",
   "execution_count": 75,
   "metadata": {},
   "outputs": [],
   "source": [
    "deep_mlp.compile(optimizer=\"adam\" , loss=\"categorical_crossentropy\" , metrics = [\"accuracy\"])"
   ]
  },
  {
   "cell_type": "code",
   "execution_count": 76,
   "metadata": {},
   "outputs": [
    {
     "name": "stdout",
     "output_type": "stream",
     "text": [
      "Epoch 1/50\n",
      "279/279 [==============================] - 1s 5ms/step - loss: 0.6542 - acc: 0.6201\n",
      "Epoch 2/50\n",
      "279/279 [==============================] - 0s 86us/step - loss: 0.5955 - acc: 0.7276\n",
      "Epoch 3/50\n",
      "279/279 [==============================] - 0s 118us/step - loss: 0.5556 - acc: 0.7204\n",
      "Epoch 4/50\n",
      "279/279 [==============================] - 0s 93us/step - loss: 0.5273 - acc: 0.7455\n",
      "Epoch 5/50\n",
      "279/279 [==============================] - 0s 93us/step - loss: 0.5039 - acc: 0.7563\n",
      "Epoch 6/50\n",
      "279/279 [==============================] - 0s 182us/step - loss: 0.4876 - acc: 0.7814\n",
      "Epoch 7/50\n",
      "279/279 [==============================] - 0s 93us/step - loss: 0.4726 - acc: 0.7921\n",
      "Epoch 8/50\n",
      "279/279 [==============================] - 0s 93us/step - loss: 0.4602 - acc: 0.7957\n",
      "Epoch 9/50\n",
      "279/279 [==============================] - 0s 79us/step - loss: 0.4504 - acc: 0.8065\n",
      "Epoch 10/50\n",
      "279/279 [==============================] - 0s 89us/step - loss: 0.4406 - acc: 0.8172\n",
      "Epoch 11/50\n",
      "279/279 [==============================] - 0s 86us/step - loss: 0.4331 - acc: 0.8172\n",
      "Epoch 12/50\n",
      "279/279 [==============================] - 0s 89us/step - loss: 0.4265 - acc: 0.8136\n",
      "Epoch 13/50\n",
      "279/279 [==============================] - 0s 175us/step - loss: 0.4194 - acc: 0.8136\n",
      "Epoch 14/50\n",
      "279/279 [==============================] - 0s 82us/step - loss: 0.4145 - acc: 0.8136\n",
      "Epoch 15/50\n",
      "279/279 [==============================] - 0s 71us/step - loss: 0.4098 - acc: 0.8172\n",
      "Epoch 16/50\n",
      "279/279 [==============================] - 0s 89us/step - loss: 0.4066 - acc: 0.8244\n",
      "Epoch 17/50\n",
      "279/279 [==============================] - 0s 75us/step - loss: 0.4029 - acc: 0.8208\n",
      "Epoch 18/50\n",
      "279/279 [==============================] - 0s 75us/step - loss: 0.3986 - acc: 0.8244\n",
      "Epoch 19/50\n",
      "279/279 [==============================] - 0s 97us/step - loss: 0.3964 - acc: 0.8208\n",
      "Epoch 20/50\n",
      "279/279 [==============================] - 0s 82us/step - loss: 0.3930 - acc: 0.8244\n",
      "Epoch 21/50\n",
      "279/279 [==============================] - 0s 89us/step - loss: 0.3903 - acc: 0.8208\n",
      "Epoch 22/50\n",
      "279/279 [==============================] - 0s 104us/step - loss: 0.3875 - acc: 0.8244\n",
      "Epoch 23/50\n",
      "279/279 [==============================] - 0s 97us/step - loss: 0.3850 - acc: 0.8244\n",
      "Epoch 24/50\n",
      "279/279 [==============================] - 0s 125us/step - loss: 0.3831 - acc: 0.8315\n",
      "Epoch 25/50\n",
      "279/279 [==============================] - 0s 118us/step - loss: 0.3821 - acc: 0.8315\n",
      "Epoch 26/50\n",
      "279/279 [==============================] - 0s 100us/step - loss: 0.3788 - acc: 0.8315\n",
      "Epoch 27/50\n",
      "279/279 [==============================] - 0s 100us/step - loss: 0.3766 - acc: 0.8315\n",
      "Epoch 28/50\n",
      "279/279 [==============================] - 0s 93us/step - loss: 0.3739 - acc: 0.8351\n",
      "Epoch 29/50\n",
      "279/279 [==============================] - 0s 122us/step - loss: 0.3720 - acc: 0.8280\n",
      "Epoch 30/50\n",
      "279/279 [==============================] - 0s 114us/step - loss: 0.3698 - acc: 0.8280\n",
      "Epoch 31/50\n",
      "279/279 [==============================] - 0s 93us/step - loss: 0.3670 - acc: 0.8387\n",
      "Epoch 32/50\n",
      "279/279 [==============================] - 0s 89us/step - loss: 0.3646 - acc: 0.8423\n",
      "Epoch 33/50\n",
      "279/279 [==============================] - 0s 114us/step - loss: 0.3622 - acc: 0.8423\n",
      "Epoch 34/50\n",
      "279/279 [==============================] - 0s 111us/step - loss: 0.3604 - acc: 0.8423\n",
      "Epoch 35/50\n",
      "279/279 [==============================] - 0s 100us/step - loss: 0.3586 - acc: 0.8423\n",
      "Epoch 36/50\n",
      "279/279 [==============================] - 0s 129us/step - loss: 0.3564 - acc: 0.8459\n",
      "Epoch 37/50\n",
      "279/279 [==============================] - 0s 107us/step - loss: 0.3529 - acc: 0.8423\n",
      "Epoch 38/50\n",
      "279/279 [==============================] - 0s 104us/step - loss: 0.3515 - acc: 0.8423\n",
      "Epoch 39/50\n",
      "279/279 [==============================] - 0s 114us/step - loss: 0.3494 - acc: 0.8423\n",
      "Epoch 40/50\n",
      "279/279 [==============================] - 0s 111us/step - loss: 0.3476 - acc: 0.8387\n",
      "Epoch 41/50\n",
      "279/279 [==============================] - 0s 100us/step - loss: 0.3471 - acc: 0.8495\n",
      "Epoch 42/50\n",
      "279/279 [==============================] - 0s 111us/step - loss: 0.3454 - acc: 0.8459\n",
      "Epoch 43/50\n",
      "279/279 [==============================] - 0s 100us/step - loss: 0.3428 - acc: 0.8423\n",
      "Epoch 44/50\n",
      "279/279 [==============================] - 0s 111us/step - loss: 0.3399 - acc: 0.8423\n",
      "Epoch 45/50\n",
      "279/279 [==============================] - 0s 114us/step - loss: 0.3397 - acc: 0.8387\n",
      "Epoch 46/50\n",
      "279/279 [==============================] - 0s 100us/step - loss: 0.3369 - acc: 0.8423\n",
      "Epoch 47/50\n",
      "279/279 [==============================] - 0s 100us/step - loss: 0.3348 - acc: 0.8530\n",
      "Epoch 48/50\n",
      "279/279 [==============================] - 0s 97us/step - loss: 0.3337 - acc: 0.8423\n",
      "Epoch 49/50\n",
      "279/279 [==============================] - 0s 93us/step - loss: 0.3313 - acc: 0.8459\n",
      "Epoch 50/50\n",
      "279/279 [==============================] - 0s 111us/step - loss: 0.3310 - acc: 0.8459\n"
     ]
    },
    {
     "data": {
      "text/plain": [
       "<keras.callbacks.History at 0x14c5448f1d0>"
      ]
     },
     "execution_count": 76,
     "metadata": {},
     "output_type": "execute_result"
    }
   ],
   "source": [
    "deep_mlp.fit(X_train , y_train_c , epochs=50)"
   ]
  },
  {
   "cell_type": "code",
   "execution_count": 77,
   "metadata": {},
   "outputs": [
    {
     "name": "stdout",
     "output_type": "stream",
     "text": [
      "94/94 [==============================] - 1s 7ms/step\n"
     ]
    },
    {
     "data": {
      "text/plain": [
       "[0.43505545436067783, 0.7872340463577433]"
      ]
     },
     "execution_count": 77,
     "metadata": {},
     "output_type": "execute_result"
    }
   ],
   "source": [
    "deep_mlp.evaluate(X_test , y_test_c)"
   ]
  },
  {
   "cell_type": "code",
   "execution_count": 81,
   "metadata": {},
   "outputs": [],
   "source": []
  },
  {
   "cell_type": "code",
   "execution_count": null,
   "metadata": {},
   "outputs": [],
   "source": []
  }
 ],
 "metadata": {
  "kernelspec": {
   "display_name": "Python 3",
   "language": "python",
   "name": "python3"
  },
  "language_info": {
   "codemirror_mode": {
    "name": "ipython",
    "version": 3
   },
   "file_extension": ".py",
   "mimetype": "text/x-python",
   "name": "python",
   "nbconvert_exporter": "python",
   "pygments_lexer": "ipython3",
   "version": "3.7.1"
  }
 },
 "nbformat": 4,
 "nbformat_minor": 2
}
